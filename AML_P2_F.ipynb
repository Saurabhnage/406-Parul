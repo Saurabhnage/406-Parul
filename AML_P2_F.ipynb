{
  "nbformat": 4,
  "nbformat_minor": 0,
  "metadata": {
    "colab": {
      "provenance": [],
      "authorship_tag": "ABX9TyOFtC57X+PhjvgMD4Jy0tEw",
      "include_colab_link": true
    },
    "kernelspec": {
      "name": "python3",
      "display_name": "Python 3"
    },
    "language_info": {
      "name": "python"
    }
  },
  "cells": [
    {
      "cell_type": "markdown",
      "metadata": {
        "id": "view-in-github",
        "colab_type": "text"
      },
      "source": [
        "<a href=\"https://colab.research.google.com/github/Saurabhnage/406-Parul/blob/main/AML_P2_F.ipynb\" target=\"_parent\"><img src=\"https://colab.research.google.com/assets/colab-badge.svg\" alt=\"Open In Colab\"/></a>"
      ]
    },
    {
      "cell_type": "code",
      "execution_count": 1,
      "metadata": {
        "colab": {
          "base_uri": "https://localhost:8080/"
        },
        "id": "EMJ7Cz_eWYQC",
        "outputId": "6229387c-5d1e-4dd0-a249-0c624107a132"
      },
      "outputs": [
        {
          "output_type": "stream",
          "name": "stdout",
          "text": [
            "Epoch 0, Loss: 0.27027541537199024\n",
            "Epoch 1000, Loss: 0.0613654251643451\n",
            "Epoch 2000, Loss: 0.001563968463905312\n",
            "Epoch 3000, Loss: 0.0007282279412928783\n",
            "Epoch 4000, Loss: 0.00046878842883545135\n",
            "Epoch 5000, Loss: 0.0003439735635033382\n",
            "Epoch 6000, Loss: 0.0002709668467520638\n",
            "Epoch 7000, Loss: 0.00022318990544646915\n",
            "Epoch 8000, Loss: 0.00018954933229530836\n",
            "Epoch 9000, Loss: 0.00016460846477731804\n",
            "Predicted Output:\n",
            "[[0.01340192]\n",
            " [0.9885369 ]\n",
            " [0.98853902]\n",
            " [0.01179877]]\n"
          ]
        }
      ],
      "source": [
        "import numpy as np\n",
        "\n",
        "# Activation function and its derivative\n",
        "def sigmoid(x):\n",
        "    return 1 / (1 + np.exp(-x))\n",
        "\n",
        "def sigmoid_derivative(x):\n",
        "    return x * (1 - x)\n",
        "\n",
        "# Parameters\n",
        "input_layer_neurons = 2\n",
        "hidden_layer_neurons = 2\n",
        "output_layer_neurons = 1\n",
        "\n",
        "# Initialize weights and biases\n",
        "wh = np.random.uniform(size=(input_layer_neurons, hidden_layer_neurons))\n",
        "bh = np.random.uniform(size=(1, hidden_layer_neurons))\n",
        "wo = np.random.uniform(size=(hidden_layer_neurons, output_layer_neurons))\n",
        "bo = np.random.uniform(size=(1, output_layer_neurons))\n",
        "\n",
        "# Forward propagation\n",
        "def forward_propagation(X):\n",
        "    hidden_input = np.dot(X, wh) + bh\n",
        "    hidden_output = sigmoid(hidden_input)\n",
        "    output_input = np.dot(hidden_output, wo) + bo\n",
        "    output = sigmoid(output_input)\n",
        "    return hidden_output, output\n",
        "\n",
        "# Backward propagation\n",
        "def backward_propagation(X, y, hidden_output, output):\n",
        "    global wh, bh, wo, bo\n",
        "    error = y - output\n",
        "    d_output = error * sigmoid_derivative(output)\n",
        "    error_hidden_layer = d_output.dot(wo.T)\n",
        "    d_hidden_layer = error_hidden_layer * sigmoid_derivative(hidden_output)\n",
        "    wo += hidden_output.T.dot(d_output)\n",
        "    bo += np.sum(d_output, axis=0, keepdims=True)\n",
        "    wh += X.T.dot(d_hidden_layer)\n",
        "    bh += np.sum(d_hidden_layer, axis=0, keepdims=True)\n",
        "\n",
        "# XOR dataset\n",
        "X = np.array([[0, 0], [0, 1], [1, 0], [1, 1]])\n",
        "y = np.array([[0], [1], [1], [0]])\n",
        "\n",
        "# Training the network\n",
        "epochs = 10000\n",
        "for epoch in range(epochs):\n",
        "    hidden_output, output = forward_propagation(X)\n",
        "    backward_propagation(X, y, hidden_output, output)\n",
        "    if epoch % 1000 == 0:\n",
        "        loss = np.mean(np.square(y - output))\n",
        "        print(f'Epoch {epoch}, Loss: {loss}')\n",
        "\n",
        "# Testing the network\n",
        "hidden_output, output = forward_propagation(X)\n",
        "print(\"Predicted Output:\")\n",
        "print(output)\n"
      ]
    }
  ]
}