{
  "nbformat": 4,
  "nbformat_minor": 0,
  "metadata": {
    "colab": {
      "provenance": [],
      "mount_file_id": "1WB6SI0DC0V4cxbJWEk1ZvnSXd25fqSRX",
      "authorship_tag": "ABX9TyM7rVLTpXHI5alj69BsnhTy",
      "include_colab_link": true
    },
    "kernelspec": {
      "name": "python3",
      "display_name": "Python 3"
    },
    "language_info": {
      "name": "python"
    }
  },
  "cells": [
    {
      "cell_type": "markdown",
      "metadata": {
        "id": "view-in-github",
        "colab_type": "text"
      },
      "source": [
        "<a href=\"https://colab.research.google.com/github/Saurabhnage/406-Parul/blob/main/AML_P4.ipynb\" target=\"_parent\"><img src=\"https://colab.research.google.com/assets/colab-badge.svg\" alt=\"Open In Colab\"/></a>"
      ]
    },
    {
      "cell_type": "code",
      "source": [
        "import pandas as pd\n",
        "msg = pd.read_csv('document.csv', names=['message', 'label'])\n",
        "print(\"Total Instances of Dataset: \", msg.shape[0])\n",
        "msg['labelnum'] = msg.label.map({'pos': 1, 'neg': 0})\n",
        "\n",
        "X = msg.message\n",
        "y = msg.labelnum\n",
        "from sklearn.model_selection import train_test_split\n",
        "Xtrain, Xtest, ytrain, ytest = train_test_split(X, y)\n",
        "from sklearn.feature_extraction.text import CountVectorizer\n",
        "\n",
        "count_v = CountVectorizer()\n",
        "Xtrain_dm = count_v.fit_transform(Xtrain)\n",
        "Xtest_dm = count_v.transform(Xtest)\n",
        "\n",
        "df = pd.DataFrame(Xtrain_dm.toarray(),columns=count_v.get_feature_names_out())\n",
        "print(df[0:5])\n",
        "\n",
        "from sklearn.naive_bayes import MultinomialNB\n",
        "clf = MultinomialNB()\n",
        "clf.fit(Xtrain_dm, ytrain)\n",
        "pred = clf.predict(Xtest_dm)\n",
        "\n",
        "for doc, p in zip(Xtrain, pred):\n",
        "    p = 'pos' if p == 1 else 'neg'\n",
        "    print(\"%s -> %s\" % (doc, p))\n",
        "\n",
        "from sklearn.metrics import accuracy_score, confusion_matrix, precision_score, recall_score\n",
        "print('Accuracy Metrics: \\n')\n",
        "print('Accuracy: ', accuracy_score(ytest, pred))\n",
        "print('Recall: ', recall_score(ytest, pred))\n",
        "print('Precision: ', precision_score(ytest, pred))\n",
        "print('Confusion Matrix: \\n', confusion_matrix(ytest, pred))"
      ],
      "metadata": {
        "colab": {
          "base_uri": "https://localhost:8080/"
        },
        "id": "D8My8Y-YgDPL",
        "outputId": "485dbd92-0c00-4f66-e841-86b417995f4c"
      },
      "execution_count": 13,
      "outputs": [
        {
          "output_type": "stream",
          "name": "stdout",
          "text": [
            "Total Instances of Dataset:  18\n",
            "   about  am  amazing  an  and  awesome  bad  beers  boss  dance  ...  tired  \\\n",
            "0      0   0        1   1    0        0    0      0     0      0  ...      0   \n",
            "1      0   0        0   0    0        0    0      0     0      0  ...      0   \n",
            "2      1   0        0   0    0        0    0      1     0      0  ...      0   \n",
            "3      0   0        0   0    0        0    0      0     0      0  ...      0   \n",
            "4      0   0        0   0    0        0    0      0     0      0  ...      0   \n",
            "\n",
            "   to  today  tomorrow  very  view  we  went  what  will  \n",
            "0   0      0         0     0     0   0     0     0     0  \n",
            "1   1      1         0     0     0   0     1     0     0  \n",
            "2   0      0         0     1     0   0     0     0     0  \n",
            "3   0      0         1     0     0   1     0     0     1  \n",
            "4   0      0         0     0     0   0     0     0     0  \n",
            "\n",
            "[5 rows x 49 columns]\n",
            "This is an amazing place -> neg\n",
            "I went to my enemy's house today -> neg\n",
            "I feel very good about these beers -> pos\n",
            "We will have good fun tomorrow -> neg\n",
            "I do not like this restaurant -> pos\n",
            "Accuracy Metrics: \n",
            "\n",
            "Accuracy:  0.8\n",
            "Recall:  0.6666666666666666\n",
            "Precision:  1.0\n",
            "Confusion Matrix: \n",
            " [[2 0]\n",
            " [1 2]]\n"
          ]
        }
      ]
    }
  ]
}