{
  "nbformat": 4,
  "nbformat_minor": 0,
  "metadata": {
    "colab": {
      "provenance": [],
      "authorship_tag": "ABX9TyMoXchveffx02BFrYAFRUqr",
      "include_colab_link": true
    },
    "kernelspec": {
      "name": "python3",
      "display_name": "Python 3"
    },
    "language_info": {
      "name": "python"
    }
  },
  "cells": [
    {
      "cell_type": "markdown",
      "metadata": {
        "id": "view-in-github",
        "colab_type": "text"
      },
      "source": [
        "<a href=\"https://colab.research.google.com/github/Saurabhnage/406-Parul/blob/main/AML_P1.ipynb\" target=\"_parent\"><img src=\"https://colab.research.google.com/assets/colab-badge.svg\" alt=\"Open In Colab\"/></a>"
      ]
    },
    {
      "cell_type": "code",
      "execution_count": 6,
      "metadata": {
        "colab": {
          "base_uri": "https://localhost:8080/"
        },
        "id": "1yAuwEDQPhrV",
        "outputId": "122d7687-8596-4a34-c23e-df3d0ea0fd58"
      },
      "outputs": [
        {
          "output_type": "stream",
          "name": "stdout",
          "text": [
            "Decision Tree:\n",
            "{0: {'Overcast': 'Yes', 'Rain': {3: {'Strong': 'No', 'Weak': 'Yes'}}, 'Sunny': {2: {'High': 'No', 'Normal': 'Yes'}}}}\n",
            "Prediction for sample {'Outlook': 'Sunny', 'Temperature': 'Cool', 'Humidity': 'High', 'Wind': 'Strong'}: No\n"
          ]
        }
      ],
      "source": [
        "import numpy as np\n",
        "import pandas as pd\n",
        "from collections import Counter\n",
        "\n",
        "def entropy(y):\n",
        "    counts = np.bincount(y)\n",
        "    probabilities = counts / len(y)\n",
        "    return -np.sum([p * np.log2(p) for p in probabilities if p > 0])\n",
        "\n",
        "def information_gain(X, y, feature):\n",
        "    original_entropy = entropy(y)\n",
        "    values, counts = np.unique(X[:, feature], return_counts=True)\n",
        "    weighted_entropy = np.sum([(counts[i] / np.sum(counts)) * entropy(y[X[:, feature] == value]) for i, value in enumerate(values)])\n",
        "    return original_entropy - weighted_entropy\n",
        "\n",
        "def best_feature_to_split(X, y, features):\n",
        "    information_gains = [information_gain(X, y, feature) for feature in features]\n",
        "    return features[np.argmax(information_gains)]\n",
        "\n",
        "def id3(X, y, features, target_labels):\n",
        "    if len(np.unique(y)) == 1:\n",
        "        return target_labels[y[0]]\n",
        "    if len(features) == 0:\n",
        "        return target_labels[Counter(y).most_common(1)[0][0]]\n",
        "\n",
        "    best_feature = best_feature_to_split(X, y, features)\n",
        "    tree = {best_feature: {}}\n",
        "    features = [f for f in features if f != best_feature]\n",
        "    values = np.unique(X[:, best_feature])\n",
        "\n",
        "    for value in values:\n",
        "        subtree = id3(X[X[:, best_feature] == value], y[X[:, best_feature] == value], features, target_labels)\n",
        "        tree[best_feature][value] = subtree\n",
        "    return tree\n",
        "\n",
        "def predict(tree, sample):\n",
        "    if not isinstance(tree, dict):\n",
        "        return tree\n",
        "    feature = list(tree.keys())[0]\n",
        "    value = sample[df.columns[feature]]\n",
        "    if value in tree[feature]:\n",
        "        return predict(tree[feature][value], sample)\n",
        "    else:\n",
        "        return None\n",
        "\n",
        "if __name__ == \"__main__\":\n",
        "    data = {\n",
        "        'Outlook': ['Sunny', 'Sunny', 'Overcast', 'Rain', 'Rain', 'Rain', 'Overcast', 'Sunny', 'Sunny', 'Rain', 'Sunny', 'Overcast', 'Overcast', 'Rain'],\n",
        "        'Temperature': ['Hot', 'Hot', 'Hot', 'Mild', 'Cool', 'Cool', 'Cool', 'Mild', 'Cool', 'Mild', 'Mild', 'Mild', 'Hot', 'Mild'],\n",
        "        'Humidity': ['High', 'High', 'High', 'High', 'Normal', 'Normal', 'Normal', 'High', 'Normal', 'Normal', 'Normal', 'High', 'Normal', 'High'],\n",
        "        'Wind': ['Weak', 'Strong', 'Weak', 'Weak', 'Weak', 'Strong', 'Strong', 'Weak', 'Weak', 'Weak', 'Strong', 'Strong', 'Weak', 'Strong'],\n",
        "        'PlayTennis': ['No', 'No', 'Yes', 'Yes', 'Yes', 'No', 'Yes', 'No', 'Yes', 'Yes', 'Yes', 'Yes', 'Yes', 'No']\n",
        "    }\n",
        "\n",
        "    df = pd.DataFrame(data)\n",
        "    X = df.iloc[:, :-1].values\n",
        "    y = pd.factorize(df['PlayTennis'])[0]\n",
        "    features = list(range(X.shape[1]))\n",
        "    target_labels = {0: 'No', 1: 'Yes'}\n",
        "\n",
        "    tree = id3(X, y, features, target_labels)\n",
        "\n",
        "    print(\"Decision Tree:\")\n",
        "    print(tree)\n",
        "\n",
        "    sample = {'Outlook': 'Sunny', 'Temperature': 'Cool', 'Humidity': 'High', 'Wind': 'Strong'}\n",
        "\n",
        "    prediction = predict(tree, sample)\n",
        "\n",
        "    print(\"Prediction for sample {}: {}\".format(sample, prediction))\n"
      ]
    }
  ]
}