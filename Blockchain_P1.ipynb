{
  "nbformat": 4,
  "nbformat_minor": 0,
  "metadata": {
    "colab": {
      "provenance": [],
      "authorship_tag": "ABX9TyO/2VXyeQ/+CnsgD0vhgi0u",
      "include_colab_link": true
    },
    "kernelspec": {
      "name": "python3",
      "display_name": "Python 3"
    },
    "language_info": {
      "name": "python"
    }
  },
  "cells": [
    {
      "cell_type": "markdown",
      "metadata": {
        "id": "view-in-github",
        "colab_type": "text"
      },
      "source": [
        "<a href=\"https://colab.research.google.com/github/Saurabhnage/406-Parul/blob/main/Blockchain_P1.ipynb\" target=\"_parent\"><img src=\"https://colab.research.google.com/assets/colab-badge.svg\" alt=\"Open In Colab\"/></a>"
      ]
    },
    {
      "cell_type": "code",
      "execution_count": 1,
      "metadata": {
        "id": "8GSufitXwDy0"
      },
      "outputs": [],
      "source": [
        "class Block:\n",
        "  def __init__(self, data, hash, last_hash):\n",
        "    self.data = data\n",
        "    self.hash = hash\n",
        "    self.last_hash = last_hash\n",
        "\n",
        "    foo_block = Block(\"foo_block\", \"bar_hash\", \"baz_last_hash\")\n",
        "\n",
        "    print(foo_block.data)\n",
        "    print(foo_block.hash)\n",
        "    print(foo_block.last_hash)"
      ]
    },
    {
      "cell_type": "code",
      "source": [
        "def lighting_hash(data):\n",
        "    return data + \"*\"\n",
        "\n",
        "class Block:\n",
        "    def __init__(self, data, hash, last_hash):\n",
        "        self.data = data\n",
        "        self.hash = hash\n",
        "        self.last_hash = last_hash\n",
        "\n",
        "class BlockChain:\n",
        "    def __init__(self):\n",
        "        genesis = Block(\"gen_block\", \"gen_hash\", \"gen_last_hash\")\n",
        "        self.chain = [genesis]\n",
        "\n",
        "    def add_block(self, data):\n",
        "        last_hash = self.chain[-1].hash\n",
        "        hash = lighting_hash(data + last_hash)\n",
        "        block = Block(data, hash, last_hash)\n",
        "        self.chain.append(block)\n",
        "\n",
        "foo_blockchain = BlockChain()\n",
        "foo_blockchain.add_block(\"one\")\n",
        "foo_blockchain.add_block(\"two\")\n",
        "foo_blockchain.add_block(\"three\")\n",
        "\n",
        "for block in foo_blockchain.chain:\n",
        "    print(block.__dict__)\n"
      ],
      "metadata": {
        "colab": {
          "base_uri": "https://localhost:8080/"
        },
        "id": "uwvn9q7A3RQ8",
        "outputId": "a2408071-4dfe-4ac1-ae4a-61f9c90d7f2c"
      },
      "execution_count": 9,
      "outputs": [
        {
          "output_type": "stream",
          "name": "stdout",
          "text": [
            "{'data': 'gen_block', 'hash': 'gen_hash', 'last_hash': 'gen_last_hash'}\n",
            "{'data': 'one', 'hash': 'onegen_hash*', 'last_hash': 'gen_hash'}\n",
            "{'data': 'two', 'hash': 'twoonegen_hash**', 'last_hash': 'onegen_hash*'}\n",
            "{'data': 'three', 'hash': 'threetwoonegen_hash***', 'last_hash': 'twoonegen_hash**'}\n"
          ]
        }
      ]
    },
    {
      "cell_type": "code",
      "source": [
        "import pandas as pd\n",
        "\n",
        "import matplotlib.pyplot as plt"
      ],
      "metadata": {
        "id": "VORu5gWD4u0b"
      },
      "execution_count": 3,
      "outputs": []
    }
  ]
}